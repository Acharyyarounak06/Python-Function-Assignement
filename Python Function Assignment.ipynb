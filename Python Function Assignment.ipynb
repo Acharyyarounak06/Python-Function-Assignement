{
 "cells": [
  {
   "cell_type": "code",
   "execution_count": null,
   "id": "b8d0cf12-b380-4c8c-b44f-d2e9d3a556f3",
   "metadata": {},
   "outputs": [],
   "source": [
    "# Read all answers of given questions."
   ]
  },
  {
   "cell_type": "code",
   "execution_count": null,
   "id": "74a6a94a-1a9a-4278-a6e9-15c98481a4c4",
   "metadata": {},
   "outputs": [],
   "source": [
    "# Theory Questions:"
   ]
  },
  {
   "cell_type": "code",
   "execution_count": 1,
   "id": "56310ae9-f171-436d-a119-4e5176a7082e",
   "metadata": {},
   "outputs": [
    {
     "name": "stdin",
     "output_type": "stream",
     "text": [
      "Enter a number:  5\n"
     ]
    },
    {
     "name": "stdout",
     "output_type": "stream",
     "text": [
      "120\n"
     ]
    }
   ],
   "source": [
    "# Q1) What is the difference between a function and a method in Python?\n",
    "# Ans. Parameter\tMethod\tFunction\n",
    "# definition \tMethod definitions are always present inside a class.\tNo class is needed to define a function.\n",
    "# Association\tAssociated with the class object.\tNot associated with any objects.\n",
    "# Call\tIt is called on an object.\tIt is called by its name.\n",
    "# Dependency\tIt depends on the class they belong to.\tIt doesn’t depend on any class, i.e., it is an identical entity.\n",
    "# self\tIt requires the self as its first argument.\tIt doesn’t require any self-argument.\n",
    "# operation\tIt operates on the data of the object it associates with.\tIt operates on the data that you pass to them as an argument.\n",
    "# Example of function:-\n",
    "def fact(n):\n",
    "    if n==1:\n",
    "        return 1\n",
    "    else:\n",
    "        return n*fact(n-1)\n",
    "n=int(input(\"Enter a number: \"))\n",
    "result=fact(n)\n",
    "print(result)"
   ]
  },
  {
   "cell_type": "code",
   "execution_count": 4,
   "id": "590253b4-939a-4ebc-8afe-d512fc6b6ce2",
   "metadata": {},
   "outputs": [
    {
     "name": "stdout",
     "output_type": "stream",
     "text": [
      "I am Vikram\n"
     ]
    }
   ],
   "source": [
    "# Example of Method\n",
    "class Employee(object):\n",
    "   def my_method(self):\n",
    "      print(\"I am Vikram\")\n",
    "name = Employee()\n",
    "name.my_method()"
   ]
  },
  {
   "cell_type": "code",
   "execution_count": 5,
   "id": "cda1fe0d-67ed-4738-a5c2-6914893e4ac6",
   "metadata": {},
   "outputs": [
    {
     "name": "stdout",
     "output_type": "stream",
     "text": [
      "Emil\n",
      "Tobias\n",
      "Linus\n"
     ]
    }
   ],
   "source": [
    "# Q2) Explain the concept of function arguments and parameters in Python.\n",
    "#Ans. Function Arguments:- Information can be passed into functions as arguments.\n",
    "def my_function(fname):\n",
    "  print(fname)\n",
    "\n",
    "my_function(\"Emil\")\n",
    "my_function(\"Tobias\")\n",
    "my_function(\"Linus\")"
   ]
  },
  {
   "cell_type": "code",
   "execution_count": 6,
   "id": "55541414-31d8-4ec0-a40c-84009ba34f87",
   "metadata": {},
   "outputs": [
    {
     "name": "stdout",
     "output_type": "stream",
     "text": [
      "Emil Refsnes\n"
     ]
    }
   ],
   "source": [
    "# Function parameters:- The terms parameter and argument can be used for the same thing: information that are passed into a function.\n",
    "def my_function(fname, lname):\n",
    "  print(fname + \" \" + lname)\n",
    "\n",
    "my_function(\"Emil\", \"Refsnes\")"
   ]
  },
  {
   "cell_type": "code",
   "execution_count": 7,
   "id": "bf096b27-f83c-4c23-9668-6c7d88f3948e",
   "metadata": {},
   "outputs": [
    {
     "name": "stdin",
     "output_type": "stream",
     "text": [
      "Enter your name:  Rounak Acharyya\n"
     ]
    },
    {
     "name": "stdout",
     "output_type": "stream",
     "text": [
      "Hello Rounak Acharyya\n"
     ]
    }
   ],
   "source": [
    "# Q3) What are the different ways to define and call a function in Python?\n",
    "# Ans. The four steps to defining a function in Python are the following:\n",
    "\n",
    "# 1. Use the keyword def to declare the function and follow this up with the function name.\n",
    "# 2. Add parameters to the function: they should be within the parentheses of the function. End your line with a colon.\n",
    "# 3. Add statements that the functions should execute.\n",
    "# 4. End your function with a return statement if the function should output something. Without the return statement, your function will return an object None.\n",
    "def hello():\n",
    "  name = str(input(\"Enter your name: \"))\n",
    "  if name:\n",
    "    print (\"Hello \" + str(name))\n",
    "  else:\n",
    "    print(\"Hello World\") \n",
    "  return \n",
    "  \n",
    "hello()"
   ]
  },
  {
   "cell_type": "code",
   "execution_count": 8,
   "id": "42989ee4-f884-49fa-83a4-561a3ae31ec6",
   "metadata": {},
   "outputs": [
    {
     "name": "stdout",
     "output_type": "stream",
     "text": [
      "Calculated area: 2500\n"
     ]
    }
   ],
   "source": [
    "# Q4) What is the purpose of the `return` statement in a Python function?\n",
    "# Ans. The Python return statement marks the end of a function and specifies the value or values to pass back from the function. Return statements can return data of any type, including integers, floats, strings, lists, dictionaries, and even other functions.\n",
    "def calculate_area(length, width):\n",
    "\tarea = length * width\n",
    "\treturn area\n",
    "\n",
    "area = calculate_area(50, 50) # get the result of the function\n",
    "print(f\"Calculated area: {area}\") # use the result of the function"
   ]
  },
  {
   "cell_type": "code",
   "execution_count": 13,
   "id": "b4a7a5dc-e1bf-40c0-8a32-a501e2965b51",
   "metadata": {},
   "outputs": [
    {
     "name": "stdout",
     "output_type": "stream",
     "text": [
      "<str_iterator object at 0x7100b3515f60>\n",
      "P\n",
      "W\n",
      "s\n",
      "k\n",
      "i\n",
      "l\n",
      "l\n",
      "s\n"
     ]
    }
   ],
   "source": [
    "# Q5) What are iterators in Python and how do they differ from iterables?\n",
    "# Ans. Iterable is an object, that one can iterate over. It generates an Iterator when passed to iter() method. An iterator is an object, which is used to iterate over an iterable object using the __next__() method. Iterators have the __next__() method, which returns the next item of the object.\n",
    "s=\"PWskills\"\n",
    "s=iter(s)\n",
    "print(s)\n",
    "print(next(s))\n",
    "print(next(s))\n",
    "print(next(s))\n",
    "print(next(s))\n",
    "print(next(s))\n",
    "print(next(s))\n",
    "print(next(s))\n",
    "print(next(s))"
   ]
  },
  {
   "cell_type": "code",
   "execution_count": 2,
   "id": "dd20ef2e-d142-4a6c-b7e4-130aabfeb458",
   "metadata": {},
   "outputs": [
    {
     "name": "stdout",
     "output_type": "stream",
     "text": [
      "1\n",
      "2\n",
      "3\n"
     ]
    }
   ],
   "source": [
    "# Q6) Explain the concept of generators in Python and how they are defined.\n",
    "# Ans. A generator function in Python is defined like a normal function, but whenever it needs to generate a value, it does so with the yield keyword rather than return. If the body of a def contains yield, the function automatically becomes a Python generator function.\n",
    "# A Python program to demonstrate use of \n",
    "# generator object with next() \n",
    "\n",
    "# A generator function\n",
    "def simpleGeneratorFun():\n",
    "    yield 1\n",
    "    yield 2\n",
    "    yield 3\n",
    " \n",
    "# x is a generator object\n",
    "x = simpleGeneratorFun()\n",
    "\n",
    "# Iterating over the generator object using next\n",
    "\n",
    "# In Python 3, __next__()\n",
    "print(next(x))\n",
    "print(next(x))\n",
    "print(next(x))\n"
   ]
  },
  {
   "cell_type": "code",
   "execution_count": 3,
   "id": "6874dab1-5a5e-4a85-8589-e8e3d9e1311a",
   "metadata": {},
   "outputs": [
    {
     "name": "stdout",
     "output_type": "stream",
     "text": [
      "1\n",
      "2\n",
      "3\n"
     ]
    }
   ],
   "source": [
    "# Q7) What are the advantages of using generators over regular functions?\n",
    "# Ans. They are more efficient than loops for data processing or calculations. Generators are more readable than traditional for loops, as their syntax is cleaner and more straightforward. Generators are incredibly versatile and are used in various applications.\n",
    "def simpleGeneratorFun():\n",
    "    yield 1\n",
    "    yield 2\n",
    "    yield 3\n",
    " \n",
    "# x is a generator object\n",
    "x = simpleGeneratorFun()\n",
    "\n",
    "# Iterating over the generator object using next\n",
    "\n",
    "# In Python 3, __next__()\n",
    "print(next(x))\n",
    "print(next(x))\n",
    "print(next(x))"
   ]
  },
  {
   "cell_type": "code",
   "execution_count": 1,
   "id": "c2bce9c8-53eb-4457-8de7-b489b8d05b0b",
   "metadata": {},
   "outputs": [
    {
     "name": "stdout",
     "output_type": "stream",
     "text": [
      "15\n"
     ]
    }
   ],
   "source": [
    "# Q8) What is a lambda function in Python and when is it typically used?\n",
    "# Ans. lambda function:- Python Lambda Functions are anonymous functions means that the function is without a name. We use lambda functions once we require a nameless function for a brief period of your time.\n",
    "# Example of lambda function\n",
    "x = lambda a : a + 10\n",
    "print(x(5))"
   ]
  },
  {
   "cell_type": "code",
   "execution_count": 2,
   "id": "ebfb1f65-4676-43e5-a3ae-c17fbcd83a29",
   "metadata": {},
   "outputs": [
    {
     "name": "stdout",
     "output_type": "stream",
     "text": [
      "[2, 4, 6, 8]\n"
     ]
    }
   ],
   "source": [
    "# Q9)  Explain the purpose and usage of the `map()` function in Python.\n",
    "# Ans. Map in Python is a function that works as an iterator to return a result after applying a function to every item of an iterable (tuple, lists, etc.). It is used when you want to apply a single transformation function to all the iterable elements.\n",
    "def addition(n):\n",
    "    return n + n\n",
    "\n",
    "# We double all numbers using map()\n",
    "numbers = (1, 2, 3, 4)\n",
    "result = map(addition, numbers)\n",
    "print(list(result))\n"
   ]
  },
  {
   "cell_type": "code",
   "execution_count": 14,
   "id": "7f12a5a6-3e62-4b71-89d5-7051a813741b",
   "metadata": {},
   "outputs": [
    {
     "name": "stdout",
     "output_type": "stream",
     "text": [
      "[100, 400, 900, 1600]\n"
     ]
    }
   ],
   "source": [
    "# Q10) What is the difference between `map()`, `reduce()`, and `filter()` functions in Python?\n",
    "# map():-\n",
    "# 1. Purpose:- Map in Python is a function that works as an iterator to return a result after applying a function to every item of an iterable (tuple, lists, etc.).\n",
    "# 2. Usage:- It is used when you want to apply a single transformation function to all the iterable elements.\n",
    "# 3. Syntax:- map(function, iterator).\n",
    "# Example:\n",
    "def square(x):\n",
    "    return x*x\n",
    "result=map(square,[10,20,30,40])\n",
    "print(list(result))"
   ]
  },
  {
   "cell_type": "code",
   "execution_count": 18,
   "id": "75977087-02ce-43e0-87ce-a82dc2dec3a6",
   "metadata": {},
   "outputs": [
    {
     "name": "stdout",
     "output_type": "stream",
     "text": [
      "The sum of the list elements is : 17\n",
      "The maximum element of the list is : 6\n"
     ]
    }
   ],
   "source": [
    "# reduce():-\n",
    "# 1. Purpose:- The reduce(fun,seq) function is used to apply a particular function passed in its argument to all of the list elements mentioned in the sequence passed along.This function is defined in “functools” module.\n",
    "# 2. Usage:- The reduce() function in Python performs cumulative operations on iterables.\n",
    "# 3. Syntax:- reduce(lambda(argument:expression)).\n",
    "# Example:-\n",
    "# python code to demonstrate working of reduce().\n",
    "import functools\n",
    "\n",
    "# initializing list\n",
    "lis = [1, 3, 5, 6, 2]\n",
    "\n",
    "# using reduce to compute sum of list\n",
    "print(\"The sum of the list elements is : \", end=\"\")\n",
    "print(functools.reduce(lambda a, b: a+b, lis))\n",
    "\n",
    "# using reduce to compute maximum element from list\n",
    "print(\"The maximum element of the list is : \", end=\"\")\n",
    "print(functools.reduce(lambda a, b: a if a > b else b, lis))\n"
   ]
  },
  {
   "cell_type": "code",
   "execution_count": 1,
   "id": "d3a03ae8-0239-4951-9a8c-a659bc481ed5",
   "metadata": {},
   "outputs": [
    {
     "name": "stdout",
     "output_type": "stream",
     "text": [
      "[2, 4]\n"
     ]
    }
   ],
   "source": [
    "# filter():-\n",
    "# 1. Purpose:- Constructs an iterator from elements of an iterable for which a function returns True.\n",
    "# 2. Usage:- When you need to filter out elements from a collection based on a condition.\n",
    "# 3. syntax:- filter(function,iterator).\n",
    "# Example:-\n",
    "def is_even(x):\n",
    "    return x % 2 == 0\n",
    "\n",
    "numbers = [1, 2, 3, 4, 5]\n",
    "even_numbers = filter(is_even, numbers)\n",
    "print(list(even_numbers))"
   ]
  },
  {
   "cell_type": "code",
   "execution_count": null,
   "id": "dc58c570-d1ea-4a1b-a8cb-b377a1ba7971",
   "metadata": {},
   "outputs": [],
   "source": [
    "# Q11) Using pen & Paper write the internal mechanism for sum operation using  reduce function on this given \n",
    "# list:[47,11,42,13];\n",
    "# Ans.\n"
   ]
  },
  {
   "cell_type": "code",
   "execution_count": null,
   "id": "0716c59c-ecbf-41ff-947d-54cfce3fea9d",
   "metadata": {},
   "outputs": [],
   "source": [
    "# Practical Questions."
   ]
  },
  {
   "cell_type": "code",
   "execution_count": 3,
   "id": "c5dbfd0d-7b83-4e4c-a884-8d2dc5460964",
   "metadata": {},
   "outputs": [
    {
     "name": "stdout",
     "output_type": "stream",
     "text": [
      "130\n"
     ]
    }
   ],
   "source": [
    "# Q1) Write a Python function that takes a list of numbers as input and returns the sum of all even numbers in the list.\n",
    "def sum_even(numbers):\n",
    "    sum=0\n",
    "    for i in numbers:\n",
    "        if i%2==0:\n",
    "            sum+=i\n",
    "    return sum\n",
    "numbers=[10,25,30,40,50]\n",
    "print(sum_even(numbers))"
   ]
  },
  {
   "cell_type": "code",
   "execution_count": 6,
   "id": "90c22a8b-ff94-4fa5-892a-dac2e45069b5",
   "metadata": {},
   "outputs": [
    {
     "name": "stdout",
     "output_type": "stream",
     "text": [
      "slliksWP\n"
     ]
    }
   ],
   "source": [
    "# Q2) Create a Python function that accepts a string and returns the reverse of that string.\n",
    "def rev(st):\n",
    "    return st[::-1]\n",
    "st=\"PWskills\"\n",
    "print(rev(st))"
   ]
  },
  {
   "cell_type": "code",
   "execution_count": 13,
   "id": "a25feb7e-fdb4-41d4-91fe-ed254cd0dcb2",
   "metadata": {},
   "outputs": [
    {
     "name": "stdout",
     "output_type": "stream",
     "text": [
      "[100, 4, 36, 81, 64]\n"
     ]
    }
   ],
   "source": [
    "# Q3) Implement a Python function that takes a list of integers and returns a new list containing the squares of each number.\n",
    "def mul(l):\n",
    "    return [i**2 for i in l]\n",
    "l=[10,2,6,9,8]\n",
    "print(mul(l))"
   ]
  },
  {
   "cell_type": "code",
   "execution_count": 1,
   "id": "58cc1796-4baa-472c-81ef-4366ffa3342b",
   "metadata": {},
   "outputs": [
    {
     "name": "stdout",
     "output_type": "stream",
     "text": [
      "Prime numbers between 1 and 200: [2, 3, 5, 7, 11, 13, 17, 19, 23, 29, 31, 37, 41, 43, 47, 53, 59, 61, 67, 71, 73, 79, 83, 89, 97, 101, 103, 107, 109, 113, 127, 131, 137, 139, 149, 151, 157, 163, 167, 173, 179, 181, 191, 193, 197, 199]\n"
     ]
    }
   ],
   "source": [
    "# Q4) Write a Python function that checks if a given number is prime or not from 1 to 200.\n",
    "def is_prime(n):\n",
    "    \"\"\"Check if a number is prime.\"\"\"\n",
    "    if n <= 1:\n",
    "        return False\n",
    "    if n <= 3:\n",
    "        return True\n",
    "    if n % 2 == 0 or n % 3 == 0:\n",
    "        return False\n",
    "    i = 5\n",
    "    while i * i <= n:\n",
    "        if n % i == 0 or n % (i + 2) == 0:\n",
    "            return False\n",
    "        i += 6\n",
    "    return True\n",
    "\n",
    "# Testing the function for numbers 1 to 200\n",
    "prime_numbers = [n for n in range(1, 201) if is_prime(n)]\n",
    "print(\"Prime numbers between 1 and 200:\", prime_numbers)"
   ]
  },
  {
   "cell_type": "code",
   "execution_count": 2,
   "id": "18a18bd5-dbc3-45c1-b9a6-42751b9ea43d",
   "metadata": {},
   "outputs": [
    {
     "name": "stdout",
     "output_type": "stream",
     "text": [
      "\n",
      "Using next() function:\n",
      "0\n",
      "1\n",
      "1\n",
      "2\n",
      "3\n",
      "5\n",
      "8\n",
      "13\n",
      "21\n",
      "34\n",
      "55\n",
      "89\n"
     ]
    }
   ],
   "source": [
    "# Q5) Create an iterator class in Python that generates the Fibonacci sequence up to a specified number of terms.\n",
    "class FibonacciIterator:\n",
    "    def __init__(self, limit):\n",
    "        self.limit = limit\n",
    "        self.a = 0\n",
    "        self.b = 1\n",
    "    \n",
    "    def __iter__(self):\n",
    "        return self\n",
    "    \n",
    "    def __next__(self):\n",
    "        if self.a > self.limit:\n",
    "            raise StopIteration\n",
    "        current = self.a\n",
    "        self.a, self.b = self.b, self.a + self.b\n",
    "        return current\n",
    "\n",
    "# Create an instance of FibonacciIterator\n",
    "fib_iterator = FibonacciIterator(100)\n",
    "\n",
    "# Using next() to iterate\n",
    "print(\"\\nUsing next() function:\")\n",
    "fib_iterator = FibonacciIterator(100)\n",
    "print(next(fib_iterator)) \n",
    "print(next(fib_iterator))  \n",
    "print(next(fib_iterator))  \n",
    "print(next(fib_iterator))  \n",
    "print(next(fib_iterator))  \n",
    "print(next(fib_iterator)) \n",
    "print(next(fib_iterator))  \n",
    "print(next(fib_iterator))  \n",
    "print(next(fib_iterator))  \n",
    "print(next(fib_iterator))  \n",
    "print(next(fib_iterator)) \n",
    "print(next(fib_iterator))  "
   ]
  },
  {
   "cell_type": "code",
   "execution_count": null,
   "id": "bdebe258-ee14-45d6-bd77-65f77760ee1f",
   "metadata": {},
   "outputs": [],
   "source": [
    "# Q6) Write a generator function in Python that yields the powers of 2 up to a given exponent.\n",
    "def powers_of_two(max_exponent):\n",
    "    \"\"\"Generate powers of 2 up to the given exponent.\"\"\"\n",
    "    for exponent in range(max_exponent + 1):\n",
    "        yield 2 ** exponent\n",
    "\n",
    "# Example usage:\n",
    "for power in powers_of_two(5):\n",
    "    print(power)"
   ]
  },
  {
   "cell_type": "code",
   "execution_count": 3,
   "id": "8fa6f664-e3de-44cc-826b-4bf54f2444c5",
   "metadata": {},
   "outputs": [
    {
     "name": "stdout",
     "output_type": "stream",
     "text": [
      "Sorted list of tuples: [(5, 0), (4, 1), (2, 2), (1, 3)]\n"
     ]
    }
   ],
   "source": [
    "# Q7) Implement a generator function that reads a file line by line and yields each line as a string.\n",
    "def read_file_line_by_line(file_path):\n",
    "    \"\"\"Generator function to read a file line by line.\"\"\"\n",
    "    try:\n",
    "        with open(file_path, 'r') as file:\n",
    "            for line in file:\n",
    "                yield line.rstrip('\\n')\n",
    "    except FileNotFoundError:\n",
    "        print(f\"Error: The file '{file_path}' was not found.\")\n",
    "    except IOError:\n",
    "        print(f\"Error: Could not read the file '{file_path}'.\")\n",
    "\n",
    "# Example usage:\n",
    "file_path = 'example.txt'  # Replace with the path to your file\n",
    "for line in read_file_line_by_line(file_path):\n",
    "    print(line)"
   ]
  },
  {
   "cell_type": "code",
   "execution_count": 5,
   "id": "366e9f6c-0e09-4231-8a5b-c1975aefca1b",
   "metadata": {},
   "outputs": [
    {
     "name": "stdout",
     "output_type": "stream",
     "text": [
      "Sorted list of tuples: [(5, 0), (4, 1), (2, 2), (1, 3)]\n"
     ]
    }
   ],
   "source": [
    "# Q8) Implement a generator function that reads a file line by line and yields each line as a string.\n",
    "# Sample list of tuples\n",
    "tuples_list = [(1, 3), (4, 1), (2, 2), (5, 0)]\n",
    "\n",
    "# Sorting using a lambda function based on the second element\n",
    "sorted_tuples = sorted(tuples_list, key=lambda x: x[1])\n",
    "\n",
    "# Output the sorted list\n",
    "print(\"Sorted list of tuples:\", sorted_tuples)"
   ]
  },
  {
   "cell_type": "code",
   "execution_count": 1,
   "id": "e51804d3-9182-4751-92a9-c97a6fa79cd6",
   "metadata": {},
   "outputs": [
    {
     "name": "stdout",
     "output_type": "stream",
     "text": [
      "Temperatures in Celsius: [0, 20, 37, 100]\n",
      "Temperatures in Fahrenheit: [32.0, 68.0, 98.6, 212.0]\n"
     ]
    }
   ],
   "source": [
    "# Q9) Write a Python program that uses `map()` to convert a list of temperatures from Celsius to Fahrenheit.\n",
    "def celsius_to_fahrenheit(celsius):\n",
    "    return (celsius * 9/5) + 32\n",
    "\n",
    "celsius_temperatures = [0, 20, 37, 100]\n",
    "\n",
    "fahrenheit_temperatures = list(map(celsius_to_fahrenheit, celsius_temperatures))\n",
    "\n",
    "print(\"Temperatures in Celsius:\", celsius_temperatures)\n",
    "print(\"Temperatures in Fahrenheit:\", fahrenheit_temperatures)"
   ]
  },
  {
   "cell_type": "code",
   "execution_count": 6,
   "id": "7f2a13b7-c61b-409a-bd9c-ca55419c06a0",
   "metadata": {},
   "outputs": [
    {
     "name": "stdout",
     "output_type": "stream",
     "text": [
      "Original string: Hello, World!\n",
      "String without vowels: Hll, Wrld!\n"
     ]
    }
   ],
   "source": [
    "# Q10) Create a Python program that uses `filter()` to remove all the vowels from a given string.\n",
    "def remove_vowels(string):\n",
    "    \"\"\"Remove vowels from the input string.\"\"\"\n",
    "    vowels = 'aeiouAEIOU'\n",
    "    return ''.join(filter(lambda char: char not in vowels, string))\n",
    "\n",
    "# Input string\n",
    "input_string = \"Hello, World!\"\n",
    "\n",
    "# Remove vowels using filter\n",
    "output_string = remove_vowels(input_string)\n",
    "\n",
    "# Print the result\n",
    "print(\"Original string:\", input_string)\n",
    "print(\"String without vowels:\", output_string)"
   ]
  },
  {
   "cell_type": "code",
   "execution_count": 7,
   "id": "2218e6c9-4cc1-4b72-9a0e-9e91aaaf6afb",
   "metadata": {},
   "outputs": [
    {
     "name": "stdout",
     "output_type": "stream",
     "text": [
      "Order values: [(34587, 55.0), (98762, 39.95), (77226, 69.80000000000001), (88112, 35.96)]\n"
     ]
    }
   ],
   "source": [
    "# Q11) Imagine an accounting routine used in a book shop. It works on a list with sublists, which look like this:\n",
    "# Write a Python program, which returns a list with 2-tuples. Each tuple consists of the order number and the \n",
    "# product of the price per item and the quantity. The product should be increased by 10,- € if the value of the \n",
    "# order is smaller than 100,00 €.\n",
    "# Write a Python program using lambda and map\n",
    "# List of orders in the format [order_number, price_per_item, quantity]\n",
    "orders = [\n",
    "    [34587, 4.50, 10],\n",
    "    [98762, 5.99, 5],\n",
    "    [77226, 2.99, 20],\n",
    "    [88112, 6.49, 4],\n",
    "]\n",
    "\n",
    "# Function to calculate total order value\n",
    "calculate_order_value = lambda order: (\n",
    "    order[0],\n",
    "    (order[1] * order[2]) + (10 if order[1] * order[2] < 100 else 0),\n",
    ")\n",
    "\n",
    "# Apply the function to each order using map\n",
    "order_values = list(map(calculate_order_value, orders))\n",
    "\n",
    "# Print the result\n",
    "print(\"Order values:\", order_values)\n"
   ]
  },
  {
   "cell_type": "code",
   "execution_count": null,
   "id": "25e1f1d3-5c42-43b5-8d8e-e14bf919c1a0",
   "metadata": {},
   "outputs": [],
   "source": []
  }
 ],
 "metadata": {
  "kernelspec": {
   "display_name": "Python 3 (ipykernel)",
   "language": "python",
   "name": "python3"
  },
  "language_info": {
   "codemirror_mode": {
    "name": "ipython",
    "version": 3
   },
   "file_extension": ".py",
   "mimetype": "text/x-python",
   "name": "python",
   "nbconvert_exporter": "python",
   "pygments_lexer": "ipython3",
   "version": "3.10.8"
  },
  "toc-showtags": false
 },
 "nbformat": 4,
 "nbformat_minor": 5
}
